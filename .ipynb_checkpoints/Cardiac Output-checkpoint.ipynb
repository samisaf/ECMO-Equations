{
 "cells": [
  {
   "cell_type": "code",
   "execution_count": 8,
   "metadata": {},
   "outputs": [],
   "source": [
    "from sympy import *\n",
    "init_printing()"
   ]
  },
  {
   "cell_type": "code",
   "execution_count": 9,
   "metadata": {},
   "outputs": [],
   "source": [
    "CO, O2Art = symbols('CO O2Art')\n",
    "FlowECMO, O2ECMO = symbols('FlowECMO O2ECMO')\n",
    "FlowVenous, O2Venous = symbols('FlowVenous O2Venous')\n",
    "\n",
    "eq1 = Eq(CO * O2Art, FlowECMO * O2ECMO + FlowVenous * O2Venous)\n",
    "eq2 = Eq(CO, FlowECMO + FlowVenous)"
   ]
  },
  {
   "cell_type": "code",
   "execution_count": 10,
   "metadata": {},
   "outputs": [
    {
     "data": {
      "image/png": "[encoded data removed]",
      "text/latex": [
       "$\\displaystyle \\left\\{ CO : \\frac{FlowECMO \\left(O2ECMO - O2Venous\\right)}{O2Art - O2Venous}, \\  FlowVenous : - \\frac{FlowECMO \\left(O2Art - O2ECMO\\right)}{O2Art - O2Venous}\\right\\}$"
      ],
      "text/plain": [
       "⎧    FlowECMO⋅(O2ECMO - O2Venous)              -FlowECMO⋅(O2Art - O2ECMO) ⎫\n",
       "⎨CO: ────────────────────────────, FlowVenous: ───────────────────────────⎬\n",
       "⎩          O2Art - O2Venous                          O2Art - O2Venous     ⎭"
      ]
     },
     "execution_count": 10,
     "metadata": {},
     "output_type": "execute_result"
    }
   ],
   "source": [
    "solve([eq1, eq2], [FlowVenous, CO])"
   ]
  },
  {
   "cell_type": "code",
   "execution_count": null,
   "metadata": {},
   "outputs": [],
   "source": []
  }
 ],
 "metadata": {
  "kernelspec": {
   "display_name": "Python 3",
   "language": "python",
   "name": "python3"
  },
  "language_info": {
   "codemirror_mode": {
    "name": "ipython",
    "version": 3
   },
   "file_extension": ".py",
   "mimetype": "text/x-python",
   "name": "python",
   "nbconvert_exporter": "python",
   "pygments_lexer": "ipython3",
   "version": "3.6.9"
  }
 },
 "nbformat": 4,
 "nbformat_minor": 2
}
